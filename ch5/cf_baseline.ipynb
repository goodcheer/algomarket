{
 "cells": [
  {
   "cell_type": "code",
   "execution_count": 15,
   "metadata": {},
   "outputs": [
    {
     "data": {
      "text/plain": [
       "array([[5, 4, 0, 1, 2, 1],\n",
       "       [4, 0, 3, 1, 1, 2],\n",
       "       [0, 5, 5, 0, 3, 3],\n",
       "       [2, 0, 1, 4, 5, 4],\n",
       "       [2, 2, 2, 0, 4, 0],\n",
       "       [1, 2, 1, 0, 5, 4]], dtype=uint32)"
      ]
     },
     "execution_count": 15,
     "metadata": {},
     "output_type": "execute_result"
    }
   ],
   "source": []
  },
  {
   "cell_type": "code",
   "execution_count": 16,
   "metadata": {},
   "outputs": [
    {
     "data": {
      "text/html": [
       "<style  type=\"text/css\" >\n",
       "    #T_845ff86b_280d_11eb_b3fb_2cf05d218940row0_col2 {\n",
       "            background-color:  teal;\n",
       "        }    #T_845ff86b_280d_11eb_b3fb_2cf05d218940row1_col1 {\n",
       "            background-color:  teal;\n",
       "        }    #T_845ff86b_280d_11eb_b3fb_2cf05d218940row2_col0 {\n",
       "            background-color:  teal;\n",
       "        }    #T_845ff86b_280d_11eb_b3fb_2cf05d218940row2_col3 {\n",
       "            background-color:  teal;\n",
       "        }    #T_845ff86b_280d_11eb_b3fb_2cf05d218940row3_col1 {\n",
       "            background-color:  teal;\n",
       "        }    #T_845ff86b_280d_11eb_b3fb_2cf05d218940row4_col3 {\n",
       "            background-color:  teal;\n",
       "        }    #T_845ff86b_280d_11eb_b3fb_2cf05d218940row4_col5 {\n",
       "            background-color:  teal;\n",
       "        }    #T_845ff86b_280d_11eb_b3fb_2cf05d218940row5_col3 {\n",
       "            background-color:  teal;\n",
       "        }</style><table id=\"T_845ff86b_280d_11eb_b3fb_2cf05d218940\" ><thead>    <tr>        <th class=\"blank level0\" ></th>        <th class=\"col_heading level0 col0\" >포레스트 검프</th>        <th class=\"col_heading level0 col1\" >타이타닉</th>        <th class=\"col_heading level0 col2\" >대부</th>        <th class=\"col_heading level0 col3\" >배트맨</th>        <th class=\"col_heading level0 col4\" >매트릭스</th>        <th class=\"col_heading level0 col5\" >에일리언</th>    </tr></thead><tbody>\n",
       "                <tr>\n",
       "                        <th id=\"T_845ff86b_280d_11eb_b3fb_2cf05d218940level0_row0\" class=\"row_heading level0 row0\" >u1</th>\n",
       "                        <td id=\"T_845ff86b_280d_11eb_b3fb_2cf05d218940row0_col0\" class=\"data row0 col0\" >5.000000</td>\n",
       "                        <td id=\"T_845ff86b_280d_11eb_b3fb_2cf05d218940row0_col1\" class=\"data row0 col1\" >4.000000</td>\n",
       "                        <td id=\"T_845ff86b_280d_11eb_b3fb_2cf05d218940row0_col2\" class=\"data row0 col2\" >nan</td>\n",
       "                        <td id=\"T_845ff86b_280d_11eb_b3fb_2cf05d218940row0_col3\" class=\"data row0 col3\" >1.000000</td>\n",
       "                        <td id=\"T_845ff86b_280d_11eb_b3fb_2cf05d218940row0_col4\" class=\"data row0 col4\" >2</td>\n",
       "                        <td id=\"T_845ff86b_280d_11eb_b3fb_2cf05d218940row0_col5\" class=\"data row0 col5\" >1.000000</td>\n",
       "            </tr>\n",
       "            <tr>\n",
       "                        <th id=\"T_845ff86b_280d_11eb_b3fb_2cf05d218940level0_row1\" class=\"row_heading level0 row1\" >u2</th>\n",
       "                        <td id=\"T_845ff86b_280d_11eb_b3fb_2cf05d218940row1_col0\" class=\"data row1 col0\" >4.000000</td>\n",
       "                        <td id=\"T_845ff86b_280d_11eb_b3fb_2cf05d218940row1_col1\" class=\"data row1 col1\" >nan</td>\n",
       "                        <td id=\"T_845ff86b_280d_11eb_b3fb_2cf05d218940row1_col2\" class=\"data row1 col2\" >3.000000</td>\n",
       "                        <td id=\"T_845ff86b_280d_11eb_b3fb_2cf05d218940row1_col3\" class=\"data row1 col3\" >1.000000</td>\n",
       "                        <td id=\"T_845ff86b_280d_11eb_b3fb_2cf05d218940row1_col4\" class=\"data row1 col4\" >1</td>\n",
       "                        <td id=\"T_845ff86b_280d_11eb_b3fb_2cf05d218940row1_col5\" class=\"data row1 col5\" >2.000000</td>\n",
       "            </tr>\n",
       "            <tr>\n",
       "                        <th id=\"T_845ff86b_280d_11eb_b3fb_2cf05d218940level0_row2\" class=\"row_heading level0 row2\" >u3</th>\n",
       "                        <td id=\"T_845ff86b_280d_11eb_b3fb_2cf05d218940row2_col0\" class=\"data row2 col0\" >nan</td>\n",
       "                        <td id=\"T_845ff86b_280d_11eb_b3fb_2cf05d218940row2_col1\" class=\"data row2 col1\" >5.000000</td>\n",
       "                        <td id=\"T_845ff86b_280d_11eb_b3fb_2cf05d218940row2_col2\" class=\"data row2 col2\" >5.000000</td>\n",
       "                        <td id=\"T_845ff86b_280d_11eb_b3fb_2cf05d218940row2_col3\" class=\"data row2 col3\" >nan</td>\n",
       "                        <td id=\"T_845ff86b_280d_11eb_b3fb_2cf05d218940row2_col4\" class=\"data row2 col4\" >3</td>\n",
       "                        <td id=\"T_845ff86b_280d_11eb_b3fb_2cf05d218940row2_col5\" class=\"data row2 col5\" >3.000000</td>\n",
       "            </tr>\n",
       "            <tr>\n",
       "                        <th id=\"T_845ff86b_280d_11eb_b3fb_2cf05d218940level0_row3\" class=\"row_heading level0 row3\" >u4</th>\n",
       "                        <td id=\"T_845ff86b_280d_11eb_b3fb_2cf05d218940row3_col0\" class=\"data row3 col0\" >2.000000</td>\n",
       "                        <td id=\"T_845ff86b_280d_11eb_b3fb_2cf05d218940row3_col1\" class=\"data row3 col1\" >nan</td>\n",
       "                        <td id=\"T_845ff86b_280d_11eb_b3fb_2cf05d218940row3_col2\" class=\"data row3 col2\" >1.000000</td>\n",
       "                        <td id=\"T_845ff86b_280d_11eb_b3fb_2cf05d218940row3_col3\" class=\"data row3 col3\" >4.000000</td>\n",
       "                        <td id=\"T_845ff86b_280d_11eb_b3fb_2cf05d218940row3_col4\" class=\"data row3 col4\" >5</td>\n",
       "                        <td id=\"T_845ff86b_280d_11eb_b3fb_2cf05d218940row3_col5\" class=\"data row3 col5\" >4.000000</td>\n",
       "            </tr>\n",
       "            <tr>\n",
       "                        <th id=\"T_845ff86b_280d_11eb_b3fb_2cf05d218940level0_row4\" class=\"row_heading level0 row4\" >u5</th>\n",
       "                        <td id=\"T_845ff86b_280d_11eb_b3fb_2cf05d218940row4_col0\" class=\"data row4 col0\" >2.000000</td>\n",
       "                        <td id=\"T_845ff86b_280d_11eb_b3fb_2cf05d218940row4_col1\" class=\"data row4 col1\" >2.000000</td>\n",
       "                        <td id=\"T_845ff86b_280d_11eb_b3fb_2cf05d218940row4_col2\" class=\"data row4 col2\" >2.000000</td>\n",
       "                        <td id=\"T_845ff86b_280d_11eb_b3fb_2cf05d218940row4_col3\" class=\"data row4 col3\" >nan</td>\n",
       "                        <td id=\"T_845ff86b_280d_11eb_b3fb_2cf05d218940row4_col4\" class=\"data row4 col4\" >4</td>\n",
       "                        <td id=\"T_845ff86b_280d_11eb_b3fb_2cf05d218940row4_col5\" class=\"data row4 col5\" >nan</td>\n",
       "            </tr>\n",
       "            <tr>\n",
       "                        <th id=\"T_845ff86b_280d_11eb_b3fb_2cf05d218940level0_row5\" class=\"row_heading level0 row5\" >u6</th>\n",
       "                        <td id=\"T_845ff86b_280d_11eb_b3fb_2cf05d218940row5_col0\" class=\"data row5 col0\" >1.000000</td>\n",
       "                        <td id=\"T_845ff86b_280d_11eb_b3fb_2cf05d218940row5_col1\" class=\"data row5 col1\" >2.000000</td>\n",
       "                        <td id=\"T_845ff86b_280d_11eb_b3fb_2cf05d218940row5_col2\" class=\"data row5 col2\" >1.000000</td>\n",
       "                        <td id=\"T_845ff86b_280d_11eb_b3fb_2cf05d218940row5_col3\" class=\"data row5 col3\" >nan</td>\n",
       "                        <td id=\"T_845ff86b_280d_11eb_b3fb_2cf05d218940row5_col4\" class=\"data row5 col4\" >5</td>\n",
       "                        <td id=\"T_845ff86b_280d_11eb_b3fb_2cf05d218940row5_col5\" class=\"data row5 col5\" >4.000000</td>\n",
       "            </tr>\n",
       "    </tbody></table>"
      ],
      "text/plain": [
       "<pandas.io.formats.style.Styler at 0x1c2f620d070>"
      ]
     },
     "execution_count": 16,
     "metadata": {},
     "output_type": "execute_result"
    }
   ],
   "source": [
    "import pandas as pd\n",
    "import numpy as np\n",
    "\n",
    "data = pd.read_csv('movie_baseline.csv', index_col=0)\n",
    "data.values.astype('I')\n",
    "data_view = data.style.highlight_null(\"teal\")\n",
    "data_view"
   ]
  },
  {
   "cell_type": "markdown",
   "metadata": {},
   "source": [
    "1. 전체 평균을 구한다."
   ]
  },
  {
   "cell_type": "code",
   "execution_count": 2,
   "metadata": {},
   "outputs": [
    {
     "data": {
      "text/plain": [
       "2.82"
      ]
     },
     "execution_count": 2,
     "metadata": {},
     "output_type": "execute_result"
    }
   ],
   "source": [
    "mu = round(data.sum().sum() / (data > 0).sum().sum() , 2)\n",
    "mu"
   ]
  },
  {
   "cell_type": "code",
   "execution_count": 3,
   "metadata": {},
   "outputs": [],
   "source": [
    "n_user, n_items = data.shape"
   ]
  },
  {
   "cell_type": "markdown",
   "metadata": {},
   "source": [
    "2. 아이템 편향을 구함\n",
    "\n",
    "![](bi.PNG)"
   ]
  },
  {
   "cell_type": "code",
   "execution_count": 4,
   "metadata": {},
   "outputs": [
    {
     "data": {
      "text/html": [
       "<div>\n",
       "<style scoped>\n",
       "    .dataframe tbody tr th:only-of-type {\n",
       "        vertical-align: middle;\n",
       "    }\n",
       "\n",
       "    .dataframe tbody tr th {\n",
       "        vertical-align: top;\n",
       "    }\n",
       "\n",
       "    .dataframe thead th {\n",
       "        text-align: right;\n",
       "    }\n",
       "</style>\n",
       "<table border=\"1\" class=\"dataframe\">\n",
       "  <thead>\n",
       "    <tr style=\"text-align: right;\">\n",
       "      <th></th>\n",
       "      <th>포레스트 검프</th>\n",
       "      <th>타이타닉</th>\n",
       "      <th>대부</th>\n",
       "      <th>배트맨</th>\n",
       "      <th>매트릭스</th>\n",
       "      <th>에일리언</th>\n",
       "    </tr>\n",
       "  </thead>\n",
       "  <tbody>\n",
       "    <tr>\n",
       "      <th>bias</th>\n",
       "      <td>-0.02</td>\n",
       "      <td>0.43</td>\n",
       "      <td>-0.42</td>\n",
       "      <td>-0.82</td>\n",
       "      <td>0.51</td>\n",
       "      <td>-0.02</td>\n",
       "    </tr>\n",
       "  </tbody>\n",
       "</table>\n",
       "</div>"
      ],
      "text/plain": [
       "      포레스트 검프  타이타닉    대부   배트맨  매트릭스  에일리언\n",
       "bias    -0.02  0.43 -0.42 -0.82  0.51 -0.02"
      ]
     },
     "execution_count": 4,
     "metadata": {},
     "output_type": "execute_result"
    }
   ],
   "source": [
    "item_biases = []\n",
    "\n",
    "for i in range(n_items):\n",
    "    users_reviewed = data.index[data.iloc[:, i] > 0].tolist()\n",
    "    denom = 0\n",
    "    for u in users_reviewed:\n",
    "        denom += (data.loc[u, :][i] - mu).sum()\n",
    "    bi = round(denom / len(users_reviewed), 2)\n",
    "    item_biases.append(bi)\n",
    "\n",
    "item_biases = pd.DataFrame.from_records([item_biases, ], index=['bias'], columns=data.columns.tolist())\n",
    "item_biases"
   ]
  },
  {
   "cell_type": "markdown",
   "metadata": {},
   "source": [
    "3. 사용자 편향을 구함\n",
    "\n",
    "![](bu.PNG)"
   ]
  },
  {
   "cell_type": "code",
   "execution_count": 5,
   "metadata": {},
   "outputs": [
    {
     "data": {
      "text/html": [
       "<div>\n",
       "<style scoped>\n",
       "    .dataframe tbody tr th:only-of-type {\n",
       "        vertical-align: middle;\n",
       "    }\n",
       "\n",
       "    .dataframe tbody tr th {\n",
       "        vertical-align: top;\n",
       "    }\n",
       "\n",
       "    .dataframe thead th {\n",
       "        text-align: right;\n",
       "    }\n",
       "</style>\n",
       "<table border=\"1\" class=\"dataframe\">\n",
       "  <thead>\n",
       "    <tr style=\"text-align: right;\">\n",
       "      <th></th>\n",
       "      <th>bias</th>\n",
       "    </tr>\n",
       "  </thead>\n",
       "  <tbody>\n",
       "    <tr>\n",
       "      <th>u1</th>\n",
       "      <td>-0.24</td>\n",
       "    </tr>\n",
       "    <tr>\n",
       "      <th>u2</th>\n",
       "      <td>-0.47</td>\n",
       "    </tr>\n",
       "    <tr>\n",
       "      <th>u3</th>\n",
       "      <td>1.06</td>\n",
       "    </tr>\n",
       "    <tr>\n",
       "      <th>u4</th>\n",
       "      <td>0.53</td>\n",
       "    </tr>\n",
       "    <tr>\n",
       "      <th>u5</th>\n",
       "      <td>-0.44</td>\n",
       "    </tr>\n",
       "    <tr>\n",
       "      <th>u6</th>\n",
       "      <td>-0.32</td>\n",
       "    </tr>\n",
       "  </tbody>\n",
       "</table>\n",
       "</div>"
      ],
      "text/plain": [
       "    bias\n",
       "u1 -0.24\n",
       "u2 -0.47\n",
       "u3  1.06\n",
       "u4  0.53\n",
       "u5 -0.44\n",
       "u6 -0.32"
      ]
     },
     "execution_count": 5,
     "metadata": {},
     "output_type": "execute_result"
    }
   ],
   "source": [
    "user_biases = []\n",
    "\n",
    "for u in range(n_user):\n",
    "    item_rated = data.columns[data.iloc[u, :] > 0].tolist()\n",
    "    denom = 0\n",
    "    for i in item_rated:\n",
    "        denom += (data.loc[:, i][u] - mu - item_biases[i]).sum()\n",
    "    bu = round(denom / len(item_rated), 2)\n",
    "    user_biases.append(bu)\n",
    "    \n",
    "\n",
    "user_biases = pd.DataFrame(user_biases, index=data.index, columns=['bias'])\n",
    "user_biases"
   ]
  },
  {
   "cell_type": "markdown",
   "metadata": {},
   "source": [
    "4. 합진다.\n",
    "\n",
    "![](bui.PNG)"
   ]
  },
  {
   "cell_type": "code",
   "execution_count": 6,
   "metadata": {},
   "outputs": [],
   "source": [
    "pred_rating = \\\n",
    "    mu + \\\n",
    "    np.repeat(user_biases.values, n_items, axis=1) + \\\n",
    "    np.repeat(item_biases.values, n_user, axis=0)"
   ]
  },
  {
   "cell_type": "code",
   "execution_count": 7,
   "metadata": {},
   "outputs": [
    {
     "data": {
      "text/html": [
       "<div>\n",
       "<style scoped>\n",
       "    .dataframe tbody tr th:only-of-type {\n",
       "        vertical-align: middle;\n",
       "    }\n",
       "\n",
       "    .dataframe tbody tr th {\n",
       "        vertical-align: top;\n",
       "    }\n",
       "\n",
       "    .dataframe thead th {\n",
       "        text-align: right;\n",
       "    }\n",
       "</style>\n",
       "<table border=\"1\" class=\"dataframe\">\n",
       "  <thead>\n",
       "    <tr style=\"text-align: right;\">\n",
       "      <th></th>\n",
       "      <th>포레스트 검프</th>\n",
       "      <th>타이타닉</th>\n",
       "      <th>대부</th>\n",
       "      <th>배트맨</th>\n",
       "      <th>매트릭스</th>\n",
       "      <th>에일리언</th>\n",
       "    </tr>\n",
       "  </thead>\n",
       "  <tbody>\n",
       "    <tr>\n",
       "      <th>u1</th>\n",
       "      <td>2.56</td>\n",
       "      <td>3.01</td>\n",
       "      <td>2.16</td>\n",
       "      <td>1.76</td>\n",
       "      <td>3.09</td>\n",
       "      <td>2.56</td>\n",
       "    </tr>\n",
       "    <tr>\n",
       "      <th>u2</th>\n",
       "      <td>2.33</td>\n",
       "      <td>2.78</td>\n",
       "      <td>1.93</td>\n",
       "      <td>1.53</td>\n",
       "      <td>2.86</td>\n",
       "      <td>2.33</td>\n",
       "    </tr>\n",
       "    <tr>\n",
       "      <th>u3</th>\n",
       "      <td>3.86</td>\n",
       "      <td>4.31</td>\n",
       "      <td>3.46</td>\n",
       "      <td>3.06</td>\n",
       "      <td>4.39</td>\n",
       "      <td>3.86</td>\n",
       "    </tr>\n",
       "    <tr>\n",
       "      <th>u4</th>\n",
       "      <td>3.33</td>\n",
       "      <td>3.78</td>\n",
       "      <td>2.93</td>\n",
       "      <td>2.53</td>\n",
       "      <td>3.86</td>\n",
       "      <td>3.33</td>\n",
       "    </tr>\n",
       "    <tr>\n",
       "      <th>u5</th>\n",
       "      <td>2.36</td>\n",
       "      <td>2.81</td>\n",
       "      <td>1.96</td>\n",
       "      <td>1.56</td>\n",
       "      <td>2.89</td>\n",
       "      <td>2.36</td>\n",
       "    </tr>\n",
       "    <tr>\n",
       "      <th>u6</th>\n",
       "      <td>2.48</td>\n",
       "      <td>2.93</td>\n",
       "      <td>2.08</td>\n",
       "      <td>1.68</td>\n",
       "      <td>3.01</td>\n",
       "      <td>2.48</td>\n",
       "    </tr>\n",
       "  </tbody>\n",
       "</table>\n",
       "</div>"
      ],
      "text/plain": [
       "    포레스트 검프  타이타닉    대부   배트맨  매트릭스  에일리언\n",
       "u1     2.56  3.01  2.16  1.76  3.09  2.56\n",
       "u2     2.33  2.78  1.93  1.53  2.86  2.33\n",
       "u3     3.86  4.31  3.46  3.06  4.39  3.86\n",
       "u4     3.33  3.78  2.93  2.53  3.86  3.33\n",
       "u5     2.36  2.81  1.96  1.56  2.89  2.36\n",
       "u6     2.48  2.93  2.08  1.68  3.01  2.48"
      ]
     },
     "execution_count": 7,
     "metadata": {},
     "output_type": "execute_result"
    }
   ],
   "source": [
    "pred_rating = pd.DataFrame(pred_rating, index=data.index, columns=data.columns)\n",
    "pred_rating"
   ]
  },
  {
   "cell_type": "markdown",
   "metadata": {},
   "source": [
    "원본과 비교했을때"
   ]
  },
  {
   "cell_type": "code",
   "execution_count": 8,
   "metadata": {},
   "outputs": [],
   "source": [
    "for idx in np.where(data.isna().values.flatten())[0]:\n",
    "    i = idx // n_user\n",
    "    j = idx % n_user\n",
    "    data.iloc[i, j] = pred_rating.iloc[i, j]"
   ]
  },
  {
   "cell_type": "code",
   "execution_count": 9,
   "metadata": {},
   "outputs": [
    {
     "data": {
      "text/html": [
       "<style  type=\"text/css\" >\n",
       "    #T_442dca79_280d_11eb_850b_2cf05d218940row0_col2 {\n",
       "            background-color:  teal;\n",
       "            : ;\n",
       "        }    #T_442dca79_280d_11eb_850b_2cf05d218940row1_col1 {\n",
       "            background-color:  teal;\n",
       "            : ;\n",
       "        }    #T_442dca79_280d_11eb_850b_2cf05d218940row2_col0 {\n",
       "            background-color:  teal;\n",
       "            : ;\n",
       "        }    #T_442dca79_280d_11eb_850b_2cf05d218940row2_col3 {\n",
       "            background-color:  teal;\n",
       "            : ;\n",
       "        }    #T_442dca79_280d_11eb_850b_2cf05d218940row3_col1 {\n",
       "            background-color:  teal;\n",
       "            : ;\n",
       "        }    #T_442dca79_280d_11eb_850b_2cf05d218940row4_col3 {\n",
       "            background-color:  teal;\n",
       "            : ;\n",
       "        }    #T_442dca79_280d_11eb_850b_2cf05d218940row4_col5 {\n",
       "            background-color:  teal;\n",
       "            : ;\n",
       "        }    #T_442dca79_280d_11eb_850b_2cf05d218940row5_col3 {\n",
       "            background-color:  teal;\n",
       "            : ;\n",
       "        }</style><table id=\"T_442dca79_280d_11eb_850b_2cf05d218940\" ><thead>    <tr>        <th class=\"blank level0\" ></th>        <th class=\"col_heading level0 col0\" >포레스트 검프</th>        <th class=\"col_heading level0 col1\" >타이타닉</th>        <th class=\"col_heading level0 col2\" >대부</th>        <th class=\"col_heading level0 col3\" >배트맨</th>        <th class=\"col_heading level0 col4\" >매트릭스</th>        <th class=\"col_heading level0 col5\" >에일리언</th>    </tr></thead><tbody>\n",
       "                <tr>\n",
       "                        <th id=\"T_442dca79_280d_11eb_850b_2cf05d218940level0_row0\" class=\"row_heading level0 row0\" >u1</th>\n",
       "                        <td id=\"T_442dca79_280d_11eb_850b_2cf05d218940row0_col0\" class=\"data row0 col0\" >5.000000</td>\n",
       "                        <td id=\"T_442dca79_280d_11eb_850b_2cf05d218940row0_col1\" class=\"data row0 col1\" >4.000000</td>\n",
       "                        <td id=\"T_442dca79_280d_11eb_850b_2cf05d218940row0_col2\" class=\"data row0 col2\" >2.160000</td>\n",
       "                        <td id=\"T_442dca79_280d_11eb_850b_2cf05d218940row0_col3\" class=\"data row0 col3\" >1.000000</td>\n",
       "                        <td id=\"T_442dca79_280d_11eb_850b_2cf05d218940row0_col4\" class=\"data row0 col4\" >2</td>\n",
       "                        <td id=\"T_442dca79_280d_11eb_850b_2cf05d218940row0_col5\" class=\"data row0 col5\" >1.000000</td>\n",
       "            </tr>\n",
       "            <tr>\n",
       "                        <th id=\"T_442dca79_280d_11eb_850b_2cf05d218940level0_row1\" class=\"row_heading level0 row1\" >u2</th>\n",
       "                        <td id=\"T_442dca79_280d_11eb_850b_2cf05d218940row1_col0\" class=\"data row1 col0\" >4.000000</td>\n",
       "                        <td id=\"T_442dca79_280d_11eb_850b_2cf05d218940row1_col1\" class=\"data row1 col1\" >2.780000</td>\n",
       "                        <td id=\"T_442dca79_280d_11eb_850b_2cf05d218940row1_col2\" class=\"data row1 col2\" >3.000000</td>\n",
       "                        <td id=\"T_442dca79_280d_11eb_850b_2cf05d218940row1_col3\" class=\"data row1 col3\" >1.000000</td>\n",
       "                        <td id=\"T_442dca79_280d_11eb_850b_2cf05d218940row1_col4\" class=\"data row1 col4\" >1</td>\n",
       "                        <td id=\"T_442dca79_280d_11eb_850b_2cf05d218940row1_col5\" class=\"data row1 col5\" >2.000000</td>\n",
       "            </tr>\n",
       "            <tr>\n",
       "                        <th id=\"T_442dca79_280d_11eb_850b_2cf05d218940level0_row2\" class=\"row_heading level0 row2\" >u3</th>\n",
       "                        <td id=\"T_442dca79_280d_11eb_850b_2cf05d218940row2_col0\" class=\"data row2 col0\" >3.860000</td>\n",
       "                        <td id=\"T_442dca79_280d_11eb_850b_2cf05d218940row2_col1\" class=\"data row2 col1\" >5.000000</td>\n",
       "                        <td id=\"T_442dca79_280d_11eb_850b_2cf05d218940row2_col2\" class=\"data row2 col2\" >5.000000</td>\n",
       "                        <td id=\"T_442dca79_280d_11eb_850b_2cf05d218940row2_col3\" class=\"data row2 col3\" >3.060000</td>\n",
       "                        <td id=\"T_442dca79_280d_11eb_850b_2cf05d218940row2_col4\" class=\"data row2 col4\" >3</td>\n",
       "                        <td id=\"T_442dca79_280d_11eb_850b_2cf05d218940row2_col5\" class=\"data row2 col5\" >3.000000</td>\n",
       "            </tr>\n",
       "            <tr>\n",
       "                        <th id=\"T_442dca79_280d_11eb_850b_2cf05d218940level0_row3\" class=\"row_heading level0 row3\" >u4</th>\n",
       "                        <td id=\"T_442dca79_280d_11eb_850b_2cf05d218940row3_col0\" class=\"data row3 col0\" >2.000000</td>\n",
       "                        <td id=\"T_442dca79_280d_11eb_850b_2cf05d218940row3_col1\" class=\"data row3 col1\" >3.780000</td>\n",
       "                        <td id=\"T_442dca79_280d_11eb_850b_2cf05d218940row3_col2\" class=\"data row3 col2\" >1.000000</td>\n",
       "                        <td id=\"T_442dca79_280d_11eb_850b_2cf05d218940row3_col3\" class=\"data row3 col3\" >4.000000</td>\n",
       "                        <td id=\"T_442dca79_280d_11eb_850b_2cf05d218940row3_col4\" class=\"data row3 col4\" >5</td>\n",
       "                        <td id=\"T_442dca79_280d_11eb_850b_2cf05d218940row3_col5\" class=\"data row3 col5\" >4.000000</td>\n",
       "            </tr>\n",
       "            <tr>\n",
       "                        <th id=\"T_442dca79_280d_11eb_850b_2cf05d218940level0_row4\" class=\"row_heading level0 row4\" >u5</th>\n",
       "                        <td id=\"T_442dca79_280d_11eb_850b_2cf05d218940row4_col0\" class=\"data row4 col0\" >2.000000</td>\n",
       "                        <td id=\"T_442dca79_280d_11eb_850b_2cf05d218940row4_col1\" class=\"data row4 col1\" >2.000000</td>\n",
       "                        <td id=\"T_442dca79_280d_11eb_850b_2cf05d218940row4_col2\" class=\"data row4 col2\" >2.000000</td>\n",
       "                        <td id=\"T_442dca79_280d_11eb_850b_2cf05d218940row4_col3\" class=\"data row4 col3\" >1.560000</td>\n",
       "                        <td id=\"T_442dca79_280d_11eb_850b_2cf05d218940row4_col4\" class=\"data row4 col4\" >4</td>\n",
       "                        <td id=\"T_442dca79_280d_11eb_850b_2cf05d218940row4_col5\" class=\"data row4 col5\" >2.360000</td>\n",
       "            </tr>\n",
       "            <tr>\n",
       "                        <th id=\"T_442dca79_280d_11eb_850b_2cf05d218940level0_row5\" class=\"row_heading level0 row5\" >u6</th>\n",
       "                        <td id=\"T_442dca79_280d_11eb_850b_2cf05d218940row5_col0\" class=\"data row5 col0\" >1.000000</td>\n",
       "                        <td id=\"T_442dca79_280d_11eb_850b_2cf05d218940row5_col1\" class=\"data row5 col1\" >2.000000</td>\n",
       "                        <td id=\"T_442dca79_280d_11eb_850b_2cf05d218940row5_col2\" class=\"data row5 col2\" >1.000000</td>\n",
       "                        <td id=\"T_442dca79_280d_11eb_850b_2cf05d218940row5_col3\" class=\"data row5 col3\" >1.680000</td>\n",
       "                        <td id=\"T_442dca79_280d_11eb_850b_2cf05d218940row5_col4\" class=\"data row5 col4\" >5</td>\n",
       "                        <td id=\"T_442dca79_280d_11eb_850b_2cf05d218940row5_col5\" class=\"data row5 col5\" >4.000000</td>\n",
       "            </tr>\n",
       "    </tbody></table>"
      ],
      "text/plain": [
       "<pandas.io.formats.style.Styler at 0x1c2f312a9d0>"
      ]
     },
     "execution_count": 9,
     "metadata": {},
     "output_type": "execute_result"
    }
   ],
   "source": [
    "data_view"
   ]
  }
 ],
 "metadata": {
  "kernelspec": {
   "display_name": "python(marketing)",
   "language": "python",
   "name": "marketing"
  },
  "language_info": {
   "codemirror_mode": {
    "name": "ipython",
    "version": 3
   },
   "file_extension": ".py",
   "mimetype": "text/x-python",
   "name": "python",
   "nbconvert_exporter": "python",
   "pygments_lexer": "ipython3",
   "version": "3.8.3"
  }
 },
 "nbformat": 4,
 "nbformat_minor": 4
}
