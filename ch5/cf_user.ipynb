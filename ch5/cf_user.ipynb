{
 "cells": [
  {
   "cell_type": "markdown",
   "metadata": {},
   "source": [
    "## 5.7 이웃기반 협업 필터링\n",
    "이웃기반 협업필터링의 아이디어는 비슷한 사용자들은 비슷한 취향과 선호를 가진다는 점에서 그들의 과거 레이팅은 특정 사용자의 미래 레이팅을 예측하는데 사용 할 수 있다는 점\n",
    "\n",
    "#### 사용자 기반 협업 필터링\n",
    "*유사한 이웃*의 해당 아이템에 대한 rating을 가중평균\n",
    "\n",
    "* *이웃*: 해당 아이템을 평가한 사용자들\n",
    "* *유사한* : 두 사용자(u, v) 가 동시에 평가한 아이템갯수의 dim인 rating vector의 유사도(e.g. pearson coef)"
   ]
  },
  {
   "cell_type": "code",
   "execution_count": 1,
   "metadata": {},
   "outputs": [
    {
     "data": {
      "text/html": [
       "<style  type=\"text/css\" >\n",
       "    #T_11f07625_320a_11eb_bd94_2cf05d218940row0_col2 {\n",
       "            background-color:  orange;\n",
       "        }    #T_11f07625_320a_11eb_bd94_2cf05d218940row1_col1 {\n",
       "            background-color:  orange;\n",
       "        }    #T_11f07625_320a_11eb_bd94_2cf05d218940row2_col0 {\n",
       "            background-color:  orange;\n",
       "        }    #T_11f07625_320a_11eb_bd94_2cf05d218940row2_col3 {\n",
       "            background-color:  orange;\n",
       "        }    #T_11f07625_320a_11eb_bd94_2cf05d218940row3_col1 {\n",
       "            background-color:  orange;\n",
       "        }    #T_11f07625_320a_11eb_bd94_2cf05d218940row4_col3 {\n",
       "            background-color:  orange;\n",
       "        }    #T_11f07625_320a_11eb_bd94_2cf05d218940row4_col5 {\n",
       "            background-color:  orange;\n",
       "        }    #T_11f07625_320a_11eb_bd94_2cf05d218940row5_col3 {\n",
       "            background-color:  orange;\n",
       "        }</style><table id=\"T_11f07625_320a_11eb_bd94_2cf05d218940\" ><thead>    <tr>        <th class=\"blank level0\" ></th>        <th class=\"col_heading level0 col0\" >포레스트 검프</th>        <th class=\"col_heading level0 col1\" >타이타닉</th>        <th class=\"col_heading level0 col2\" >대부</th>        <th class=\"col_heading level0 col3\" >배트맨</th>        <th class=\"col_heading level0 col4\" >매트릭스</th>        <th class=\"col_heading level0 col5\" >에일리언</th>    </tr></thead><tbody>\n",
       "                <tr>\n",
       "                        <th id=\"T_11f07625_320a_11eb_bd94_2cf05d218940level0_row0\" class=\"row_heading level0 row0\" >u1</th>\n",
       "                        <td id=\"T_11f07625_320a_11eb_bd94_2cf05d218940row0_col0\" class=\"data row0 col0\" >5.00</td>\n",
       "                        <td id=\"T_11f07625_320a_11eb_bd94_2cf05d218940row0_col1\" class=\"data row0 col1\" >4.00</td>\n",
       "                        <td id=\"T_11f07625_320a_11eb_bd94_2cf05d218940row0_col2\" class=\"data row0 col2\" >nan</td>\n",
       "                        <td id=\"T_11f07625_320a_11eb_bd94_2cf05d218940row0_col3\" class=\"data row0 col3\" >1.00</td>\n",
       "                        <td id=\"T_11f07625_320a_11eb_bd94_2cf05d218940row0_col4\" class=\"data row0 col4\" >2</td>\n",
       "                        <td id=\"T_11f07625_320a_11eb_bd94_2cf05d218940row0_col5\" class=\"data row0 col5\" >1.00</td>\n",
       "            </tr>\n",
       "            <tr>\n",
       "                        <th id=\"T_11f07625_320a_11eb_bd94_2cf05d218940level0_row1\" class=\"row_heading level0 row1\" >u2</th>\n",
       "                        <td id=\"T_11f07625_320a_11eb_bd94_2cf05d218940row1_col0\" class=\"data row1 col0\" >4.00</td>\n",
       "                        <td id=\"T_11f07625_320a_11eb_bd94_2cf05d218940row1_col1\" class=\"data row1 col1\" >nan</td>\n",
       "                        <td id=\"T_11f07625_320a_11eb_bd94_2cf05d218940row1_col2\" class=\"data row1 col2\" >3.00</td>\n",
       "                        <td id=\"T_11f07625_320a_11eb_bd94_2cf05d218940row1_col3\" class=\"data row1 col3\" >1.00</td>\n",
       "                        <td id=\"T_11f07625_320a_11eb_bd94_2cf05d218940row1_col4\" class=\"data row1 col4\" >1</td>\n",
       "                        <td id=\"T_11f07625_320a_11eb_bd94_2cf05d218940row1_col5\" class=\"data row1 col5\" >2.00</td>\n",
       "            </tr>\n",
       "            <tr>\n",
       "                        <th id=\"T_11f07625_320a_11eb_bd94_2cf05d218940level0_row2\" class=\"row_heading level0 row2\" >u3</th>\n",
       "                        <td id=\"T_11f07625_320a_11eb_bd94_2cf05d218940row2_col0\" class=\"data row2 col0\" >nan</td>\n",
       "                        <td id=\"T_11f07625_320a_11eb_bd94_2cf05d218940row2_col1\" class=\"data row2 col1\" >5.00</td>\n",
       "                        <td id=\"T_11f07625_320a_11eb_bd94_2cf05d218940row2_col2\" class=\"data row2 col2\" >5.00</td>\n",
       "                        <td id=\"T_11f07625_320a_11eb_bd94_2cf05d218940row2_col3\" class=\"data row2 col3\" >nan</td>\n",
       "                        <td id=\"T_11f07625_320a_11eb_bd94_2cf05d218940row2_col4\" class=\"data row2 col4\" >3</td>\n",
       "                        <td id=\"T_11f07625_320a_11eb_bd94_2cf05d218940row2_col5\" class=\"data row2 col5\" >3.00</td>\n",
       "            </tr>\n",
       "            <tr>\n",
       "                        <th id=\"T_11f07625_320a_11eb_bd94_2cf05d218940level0_row3\" class=\"row_heading level0 row3\" >u4</th>\n",
       "                        <td id=\"T_11f07625_320a_11eb_bd94_2cf05d218940row3_col0\" class=\"data row3 col0\" >2.00</td>\n",
       "                        <td id=\"T_11f07625_320a_11eb_bd94_2cf05d218940row3_col1\" class=\"data row3 col1\" >nan</td>\n",
       "                        <td id=\"T_11f07625_320a_11eb_bd94_2cf05d218940row3_col2\" class=\"data row3 col2\" >1.00</td>\n",
       "                        <td id=\"T_11f07625_320a_11eb_bd94_2cf05d218940row3_col3\" class=\"data row3 col3\" >4.00</td>\n",
       "                        <td id=\"T_11f07625_320a_11eb_bd94_2cf05d218940row3_col4\" class=\"data row3 col4\" >5</td>\n",
       "                        <td id=\"T_11f07625_320a_11eb_bd94_2cf05d218940row3_col5\" class=\"data row3 col5\" >4.00</td>\n",
       "            </tr>\n",
       "            <tr>\n",
       "                        <th id=\"T_11f07625_320a_11eb_bd94_2cf05d218940level0_row4\" class=\"row_heading level0 row4\" >u5</th>\n",
       "                        <td id=\"T_11f07625_320a_11eb_bd94_2cf05d218940row4_col0\" class=\"data row4 col0\" >2.00</td>\n",
       "                        <td id=\"T_11f07625_320a_11eb_bd94_2cf05d218940row4_col1\" class=\"data row4 col1\" >2.00</td>\n",
       "                        <td id=\"T_11f07625_320a_11eb_bd94_2cf05d218940row4_col2\" class=\"data row4 col2\" >2.00</td>\n",
       "                        <td id=\"T_11f07625_320a_11eb_bd94_2cf05d218940row4_col3\" class=\"data row4 col3\" >nan</td>\n",
       "                        <td id=\"T_11f07625_320a_11eb_bd94_2cf05d218940row4_col4\" class=\"data row4 col4\" >4</td>\n",
       "                        <td id=\"T_11f07625_320a_11eb_bd94_2cf05d218940row4_col5\" class=\"data row4 col5\" >nan</td>\n",
       "            </tr>\n",
       "            <tr>\n",
       "                        <th id=\"T_11f07625_320a_11eb_bd94_2cf05d218940level0_row5\" class=\"row_heading level0 row5\" >u6</th>\n",
       "                        <td id=\"T_11f07625_320a_11eb_bd94_2cf05d218940row5_col0\" class=\"data row5 col0\" >1.00</td>\n",
       "                        <td id=\"T_11f07625_320a_11eb_bd94_2cf05d218940row5_col1\" class=\"data row5 col1\" >2.00</td>\n",
       "                        <td id=\"T_11f07625_320a_11eb_bd94_2cf05d218940row5_col2\" class=\"data row5 col2\" >1.00</td>\n",
       "                        <td id=\"T_11f07625_320a_11eb_bd94_2cf05d218940row5_col3\" class=\"data row5 col3\" >nan</td>\n",
       "                        <td id=\"T_11f07625_320a_11eb_bd94_2cf05d218940row5_col4\" class=\"data row5 col4\" >5</td>\n",
       "                        <td id=\"T_11f07625_320a_11eb_bd94_2cf05d218940row5_col5\" class=\"data row5 col5\" >4.00</td>\n",
       "            </tr>\n",
       "    </tbody></table>"
      ],
      "text/plain": [
       "<pandas.io.formats.style.Styler at 0x22880c09670>"
      ]
     },
     "execution_count": 1,
     "metadata": {},
     "output_type": "execute_result"
    }
   ],
   "source": [
    "import pandas as pd\n",
    "import numpy as np\n",
    "\n",
    "data = pd.read_csv('movie_baseline.csv', index_col=0)\n",
    "data.values.astype('I')\n",
    "ratings = data.copy(deep=True)\n",
    "ratings_view = ratings.style.highlight_null(\"orange\").set_precision(2)\n",
    "ratings_view"
   ]
  },
  {
   "cell_type": "markdown",
   "metadata": {},
   "source": [
    "먼저, 사용자들의 유사도 행렬 `sim_mat`을 만들어준다. \n",
    "* `co_rated`:  두 사용자 둘다 평가한 아이템 평점 집합 (I<sub>uv</sub>)\n",
    "\n",
    "![](cf_user_sim.PNG)"
   ]
  },
  {
   "cell_type": "code",
   "execution_count": 2,
   "metadata": {},
   "outputs": [],
   "source": [
    "def std_cancled(a, a_mu):\n",
    "    return np.sqrt(np.sum(np.square(a - a_mu)))\n",
    "\n",
    "def sim(u, v):\n",
    "    co_rated = ~np.isnan(u) & ~np.isnan(v)\n",
    "    u = u[co_rated]\n",
    "    v = v[co_rated]\n",
    "    u_mu = u.mean()\n",
    "    v_mu = v.mean()\n",
    "    nom = np.sum((u - u_mu) * (v - v_mu))\n",
    "    denom = std_cancled(u, u_mu) * std_cancled(v, v_mu)\n",
    "    return nom / denom"
   ]
  },
  {
   "cell_type": "code",
   "execution_count": 3,
   "metadata": {},
   "outputs": [
    {
     "name": "stdout",
     "output_type": "stream",
     "text": [
      "[[ 1.    0.87  0.94 -0.8  -0.94 -0.9 ]\n",
      " [ 0.87  1.    0.87 -0.84 -0.94 -0.94]\n",
      " [ 0.94  0.87  1.   -0.97 -1.   -0.95]\n",
      " [-0.8  -0.84 -0.97  1.    0.97  0.97]\n",
      " [-0.94 -0.94 -1.    0.97  1.    0.97]\n",
      " [-0.9  -0.94 -0.95  0.97  0.97  1.  ]]\n"
     ]
    }
   ],
   "source": [
    "nu, mi = data.shape\n",
    "\n",
    "sim_mat = np.zeros([nu, nu])\n",
    "\n",
    "for n in range(nu):\n",
    "    for k in range(n+1, nu):\n",
    "        u = data.loc[f'u{n+1}'].values\n",
    "        v = data.loc[f'u{k+1}'].values\n",
    "        sim_mat[n, k] = sim(u, v).round(2)\n",
    "            \n",
    "sim_mat = sim_mat + sim_mat.T # symmetric\n",
    "np.fill_diagonal(sim_mat, 1) # self-coef always 1\n",
    "print(sim_mat)"
   ]
  },
  {
   "cell_type": "markdown",
   "metadata": {},
   "source": [
    "계산한 유사도가 일부 책과 다르게 나온다.\n",
    "원 저자의 [github](https://github.com/ikatsov/tensor-house/blob/master/recommendations/user-based-cf.ipynb)을 보면, 피어슨 유사도 행렬이 asymmetric하게 나오는데, 뭔가 원 저자가 계산을 잘못한건 아닌지... 싶다. 피어슨 유사도에서 교환법칙이 성립 안할수가 있는것인가..?"
   ]
  },
  {
   "cell_type": "markdown",
   "metadata": {},
   "source": [
    "목표 사용자 `u`의 아이템 `i`에 대한 예상 평점은, \n",
    " * 아이템 `i`를 평가한 사용자중\n",
    " * 가장 유사도가 큰 `k` 이웃을 골라\n",
    " * 그 이웃의 해당 아이템에 대한 평점을 유사도 가중평균을 해준 값에\n",
    " * 사용자의 baseline 평점을 합해준다.\n",
    " \n",
    " ![](cf_user_rhat.PNG)"
   ]
  },
  {
   "cell_type": "code",
   "execution_count": 68,
   "metadata": {},
   "outputs": [],
   "source": [
    "def predict(u, i, k):\n",
    "    \"\"\"\n",
    "    u: user index \n",
    "    i: item index\n",
    "    k: number of closest neighborhoods\n",
    "    \"\"\"\n",
    "    r = data.values    \n",
    "    weighted_sum = 0\n",
    "    normalizer = 0\n",
    "    for v in range(nu):\n",
    "        if v == u:\n",
    "            continue\n",
    "        if not np.isnan(r[v, i]): # if v rated i\n",
    "            w = sim_mat[u, v]\n",
    "            weighted_sum += w * (r[v, i] - np.nanmean(r[v]))\n",
    "            normalizer += np.abs(w)\n",
    "    return (np.nanmean(r[u]) + weighted_sum / normalizer).round(2)"
   ]
  },
  {
   "cell_type": "markdown",
   "metadata": {},
   "source": [
    "예를 들어 1번 사용자와 대부 영화에 대한 빠진 레이팅을 이웃 크기 2를 사용해 예측해보자."
   ]
  },
  {
   "cell_type": "code",
   "execution_count": 69,
   "metadata": {},
   "outputs": [
    {
     "data": {
      "text/plain": [
       "3.79"
      ]
     },
     "execution_count": 69,
     "metadata": {},
     "output_type": "execute_result"
    }
   ],
   "source": [
    "predict(0, 2, 2)"
   ]
  },
  {
   "cell_type": "markdown",
   "metadata": {},
   "source": [
    "전체 완성."
   ]
  },
  {
   "cell_type": "code",
   "execution_count": 70,
   "metadata": {},
   "outputs": [],
   "source": [
    "for u in range(nu):\n",
    "    for i in range(mi):\n",
    "        if np.isnan(ratings.iloc[u, i]):\n",
    "            ratings.iloc[u, i] = predict(u, i, 2)"
   ]
  },
  {
   "cell_type": "code",
   "execution_count": 71,
   "metadata": {},
   "outputs": [
    {
     "data": {
      "text/html": [
       "<style  type=\"text/css\" >\n",
       "    #T_fc025822_3210_11eb_bec3_2cf05d218940row0_col2 {\n",
       "            background-color:  orange;\n",
       "            : ;\n",
       "        }    #T_fc025822_3210_11eb_bec3_2cf05d218940row1_col1 {\n",
       "            background-color:  orange;\n",
       "            : ;\n",
       "        }    #T_fc025822_3210_11eb_bec3_2cf05d218940row2_col0 {\n",
       "            background-color:  orange;\n",
       "            : ;\n",
       "        }    #T_fc025822_3210_11eb_bec3_2cf05d218940row2_col3 {\n",
       "            background-color:  orange;\n",
       "            : ;\n",
       "        }    #T_fc025822_3210_11eb_bec3_2cf05d218940row3_col1 {\n",
       "            background-color:  orange;\n",
       "            : ;\n",
       "        }    #T_fc025822_3210_11eb_bec3_2cf05d218940row4_col3 {\n",
       "            background-color:  orange;\n",
       "            : ;\n",
       "        }    #T_fc025822_3210_11eb_bec3_2cf05d218940row4_col5 {\n",
       "            background-color:  orange;\n",
       "            : ;\n",
       "        }    #T_fc025822_3210_11eb_bec3_2cf05d218940row5_col3 {\n",
       "            background-color:  orange;\n",
       "            : ;\n",
       "        }</style><table id=\"T_fc025822_3210_11eb_bec3_2cf05d218940\" ><thead>    <tr>        <th class=\"blank level0\" ></th>        <th class=\"col_heading level0 col0\" >포레스트 검프</th>        <th class=\"col_heading level0 col1\" >타이타닉</th>        <th class=\"col_heading level0 col2\" >대부</th>        <th class=\"col_heading level0 col3\" >배트맨</th>        <th class=\"col_heading level0 col4\" >매트릭스</th>        <th class=\"col_heading level0 col5\" >에일리언</th>    </tr></thead><tbody>\n",
       "                <tr>\n",
       "                        <th id=\"T_fc025822_3210_11eb_bec3_2cf05d218940level0_row0\" class=\"row_heading level0 row0\" >u1</th>\n",
       "                        <td id=\"T_fc025822_3210_11eb_bec3_2cf05d218940row0_col0\" class=\"data row0 col0\" >5.00</td>\n",
       "                        <td id=\"T_fc025822_3210_11eb_bec3_2cf05d218940row0_col1\" class=\"data row0 col1\" >4.00</td>\n",
       "                        <td id=\"T_fc025822_3210_11eb_bec3_2cf05d218940row0_col2\" class=\"data row0 col2\" >3.79</td>\n",
       "                        <td id=\"T_fc025822_3210_11eb_bec3_2cf05d218940row0_col3\" class=\"data row0 col3\" >1.00</td>\n",
       "                        <td id=\"T_fc025822_3210_11eb_bec3_2cf05d218940row0_col4\" class=\"data row0 col4\" >2</td>\n",
       "                        <td id=\"T_fc025822_3210_11eb_bec3_2cf05d218940row0_col5\" class=\"data row0 col5\" >1.00</td>\n",
       "            </tr>\n",
       "            <tr>\n",
       "                        <th id=\"T_fc025822_3210_11eb_bec3_2cf05d218940level0_row1\" class=\"row_heading level0 row1\" >u2</th>\n",
       "                        <td id=\"T_fc025822_3210_11eb_bec3_2cf05d218940row1_col0\" class=\"data row1 col0\" >4.00</td>\n",
       "                        <td id=\"T_fc025822_3210_11eb_bec3_2cf05d218940row1_col1\" class=\"data row1 col1\" >3.06</td>\n",
       "                        <td id=\"T_fc025822_3210_11eb_bec3_2cf05d218940row1_col2\" class=\"data row1 col2\" >3.00</td>\n",
       "                        <td id=\"T_fc025822_3210_11eb_bec3_2cf05d218940row1_col3\" class=\"data row1 col3\" >1.00</td>\n",
       "                        <td id=\"T_fc025822_3210_11eb_bec3_2cf05d218940row1_col4\" class=\"data row1 col4\" >1</td>\n",
       "                        <td id=\"T_fc025822_3210_11eb_bec3_2cf05d218940row1_col5\" class=\"data row1 col5\" >2.00</td>\n",
       "            </tr>\n",
       "            <tr>\n",
       "                        <th id=\"T_fc025822_3210_11eb_bec3_2cf05d218940level0_row2\" class=\"row_heading level0 row2\" >u3</th>\n",
       "                        <td id=\"T_fc025822_3210_11eb_bec3_2cf05d218940row2_col0\" class=\"data row2 col0\" >5.48</td>\n",
       "                        <td id=\"T_fc025822_3210_11eb_bec3_2cf05d218940row2_col1\" class=\"data row2 col1\" >5.00</td>\n",
       "                        <td id=\"T_fc025822_3210_11eb_bec3_2cf05d218940row2_col2\" class=\"data row2 col2\" >5.00</td>\n",
       "                        <td id=\"T_fc025822_3210_11eb_bec3_2cf05d218940row2_col3\" class=\"data row2 col3\" >2.80</td>\n",
       "                        <td id=\"T_fc025822_3210_11eb_bec3_2cf05d218940row2_col4\" class=\"data row2 col4\" >3</td>\n",
       "                        <td id=\"T_fc025822_3210_11eb_bec3_2cf05d218940row2_col5\" class=\"data row2 col5\" >3.00</td>\n",
       "            </tr>\n",
       "            <tr>\n",
       "                        <th id=\"T_fc025822_3210_11eb_bec3_2cf05d218940level0_row3\" class=\"row_heading level0 row3\" >u4</th>\n",
       "                        <td id=\"T_fc025822_3210_11eb_bec3_2cf05d218940row3_col0\" class=\"data row3 col0\" >2.00</td>\n",
       "                        <td id=\"T_fc025822_3210_11eb_bec3_2cf05d218940row3_col1\" class=\"data row3 col1\" >2.35</td>\n",
       "                        <td id=\"T_fc025822_3210_11eb_bec3_2cf05d218940row3_col2\" class=\"data row3 col2\" >1.00</td>\n",
       "                        <td id=\"T_fc025822_3210_11eb_bec3_2cf05d218940row3_col3\" class=\"data row3 col3\" >4.00</td>\n",
       "                        <td id=\"T_fc025822_3210_11eb_bec3_2cf05d218940row3_col4\" class=\"data row3 col4\" >5</td>\n",
       "                        <td id=\"T_fc025822_3210_11eb_bec3_2cf05d218940row3_col5\" class=\"data row3 col5\" >4.00</td>\n",
       "            </tr>\n",
       "            <tr>\n",
       "                        <th id=\"T_fc025822_3210_11eb_bec3_2cf05d218940level0_row4\" class=\"row_heading level0 row4\" >u5</th>\n",
       "                        <td id=\"T_fc025822_3210_11eb_bec3_2cf05d218940row4_col0\" class=\"data row4 col0\" >2.00</td>\n",
       "                        <td id=\"T_fc025822_3210_11eb_bec3_2cf05d218940row4_col1\" class=\"data row4 col1\" >2.00</td>\n",
       "                        <td id=\"T_fc025822_3210_11eb_bec3_2cf05d218940row4_col2\" class=\"data row4 col2\" >2.00</td>\n",
       "                        <td id=\"T_fc025822_3210_11eb_bec3_2cf05d218940row4_col3\" class=\"data row4 col3\" >3.70</td>\n",
       "                        <td id=\"T_fc025822_3210_11eb_bec3_2cf05d218940row4_col4\" class=\"data row4 col4\" >4</td>\n",
       "                        <td id=\"T_fc025822_3210_11eb_bec3_2cf05d218940row4_col5\" class=\"data row4 col5\" >3.50</td>\n",
       "            </tr>\n",
       "            <tr>\n",
       "                        <th id=\"T_fc025822_3210_11eb_bec3_2cf05d218940level0_row5\" class=\"row_heading level0 row5\" >u6</th>\n",
       "                        <td id=\"T_fc025822_3210_11eb_bec3_2cf05d218940row5_col0\" class=\"data row5 col0\" >1.00</td>\n",
       "                        <td id=\"T_fc025822_3210_11eb_bec3_2cf05d218940row5_col1\" class=\"data row5 col1\" >2.00</td>\n",
       "                        <td id=\"T_fc025822_3210_11eb_bec3_2cf05d218940row5_col2\" class=\"data row5 col2\" >1.00</td>\n",
       "                        <td id=\"T_fc025822_3210_11eb_bec3_2cf05d218940row5_col3\" class=\"data row5 col3\" >3.79</td>\n",
       "                        <td id=\"T_fc025822_3210_11eb_bec3_2cf05d218940row5_col4\" class=\"data row5 col4\" >5</td>\n",
       "                        <td id=\"T_fc025822_3210_11eb_bec3_2cf05d218940row5_col5\" class=\"data row5 col5\" >4.00</td>\n",
       "            </tr>\n",
       "    </tbody></table>"
      ],
      "text/plain": [
       "<pandas.io.formats.style.Styler at 0x22880c09670>"
      ]
     },
     "execution_count": 71,
     "metadata": {},
     "output_type": "execute_result"
    }
   ],
   "source": [
    "ratings_view"
   ]
  },
  {
   "cell_type": "markdown",
   "metadata": {},
   "source": [
    "역시나, 원저자의 계산과는 다르다. (틀린 코드 있으면 제보 바랍니다.)"
   ]
  }
 ],
 "metadata": {
  "kernelspec": {
   "display_name": "python(marketing)",
   "language": "python",
   "name": "marketing"
  },
  "language_info": {
   "codemirror_mode": {
    "name": "ipython",
    "version": 3
   },
   "file_extension": ".py",
   "mimetype": "text/x-python",
   "name": "python",
   "nbconvert_exporter": "python",
   "pygments_lexer": "ipython3",
   "version": "3.8.3"
  }
 },
 "nbformat": 4,
 "nbformat_minor": 4
}
